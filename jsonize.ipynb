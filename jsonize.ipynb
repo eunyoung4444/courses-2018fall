{
 "cells": [
  {
   "cell_type": "code",
   "execution_count": 7,
   "metadata": {},
   "outputs": [],
   "source": [
    "import os\n",
    "import glob\n",
    "import json\n",
    "import csv"
   ]
  },
  {
   "cell_type": "code",
   "execution_count": 17,
   "metadata": {},
   "outputs": [
    {
     "name": "stdout",
     "output_type": "stream",
     "text": [
      "20\n",
      "40\n",
      "60\n",
      "80\n",
      "100\n",
      "120\n",
      "140\n",
      "160\n",
      "180\n",
      "200\n",
      "220\n",
      "240\n",
      "260\n",
      "280\n",
      "300\n",
      "320\n"
     ]
    }
   ],
   "source": [
    "curdir=os.getcwd()\n",
    "files=glob.iglob(curdir+'/K-MOOC tracking_log'+'/*')\n",
    "errorlist='errors.csv'\n",
    "filecount=0\n",
    "for file in files:\n",
    "    filecount=filecount+1\n",
    "    if (filecount%20)==0:\n",
    "        print(filecount)\n",
    "    fileid=file.split('_log')[1]\n",
    "    newfile=curdir+'/K-MOOC tracking_log_jsonized'+fileid+'.json'\n",
    "    data=[]\n",
    "    rawdata=open(file,'r',encoding='utf-8')\n",
    "    lines=rawdata.readlines()\n",
    "    count=0\n",
    "    for line in lines:\n",
    "        count=count+1\n",
    "        #print(count)\n",
    "        try:\n",
    "            json.dump(json.loads(line),open('temp.json','w',encoding='utf-8'))\n",
    "        except Exception:\n",
    "            with open(errorlist,'a',encoding='utf-8') as ef:\n",
    "                ewriter= csv.writer(ef, delimiter=',')\n",
    "                ewriter.writerow([fileid, count, line])\n",
    "                ef.close()\n",
    "        else:\n",
    "            data.append(json.loads(line))\n",
    "         #   pass\n",
    "    with open(newfile,'w',encoding='utf-8') as nf:\n",
    "        json.dump(data,nf, sort_keys=True, indent=4)\n",
    "    "
   ]
  },
  {
   "cell_type": "code",
   "execution_count": 32,
   "metadata": {},
   "outputs": [
    {
     "name": "stdout",
     "output_type": "stream",
     "text": [
      "50\n",
      "100\n",
      "150\n",
      "200\n",
      "250\n",
      "300\n"
     ]
    }
   ],
   "source": [
    "# get set of event type\n",
    "jsonfiles=glob.iglob(curdir+'/K-MOOC tracking_log_jsonized'+'/*')\n",
    "eventset=set()\n",
    "count=0\n",
    "for jsonfile in jsonfiles:\n",
    "    count=count+1\n",
    "    if (count%50==0):\n",
    "        print(count)\n",
    "    wholedata=json.load(open(jsonfile,'r',encoding='utf-8'))\n",
    "    for data in wholedata:\n",
    "        event=data[\"event_type\"]\n",
    "        eventset.add(event)\n",
    "with open('eventlist.csv','w',encoding='utf-8') as wf:\n",
    "    eventwriter=csv.writer(wf,delimiter=',')\n",
    "    for event in eventset:\n",
    "        eventwriter.writerow(event.split('/'))\n",
    "    wf.close()    \n",
    "    "
   ]
  },
  {
   "cell_type": "code",
   "execution_count": null,
   "metadata": {},
   "outputs": [],
   "source": []
  },
  {
   "cell_type": "code",
   "execution_count": null,
   "metadata": {},
   "outputs": [],
   "source": []
  }
 ],
 "metadata": {
  "kernelspec": {
   "display_name": "Python 3",
   "language": "python",
   "name": "python3"
  },
  "language_info": {
   "codemirror_mode": {
    "name": "ipython",
    "version": 3
   },
   "file_extension": ".py",
   "mimetype": "text/x-python",
   "name": "python",
   "nbconvert_exporter": "python",
   "pygments_lexer": "ipython3",
   "version": "3.6.5"
  }
 },
 "nbformat": 4,
 "nbformat_minor": 2
}
