{
 "cells": [
  {
   "cell_type": "code",
   "execution_count": 5,
   "metadata": {},
   "outputs": [],
   "source": [
    "import os\n",
    "import glob\n",
    "import json\n",
    "import csv"
   ]
  },
  {
   "cell_type": "code",
   "execution_count": 6,
   "metadata": {},
   "outputs": [],
   "source": [
    "# get set of event type\n",
    "curdir=os.getcwd()\n",
    "\n",
    "jsonfiles=glob.iglob(curdir+'/MOOC_sample_data_jsonized'+'/*') # input jsonized events, you may change this \n",
    "eventset=set()\n",
    "for jsonfile in jsonfiles:\n",
    "    wholedata=json.load(open(jsonfile,'r',encoding='utf-8'))\n",
    "    for data in wholedata:\n",
    "        event=data[\"event_type\"]\n",
    "        eventset.add(event)\n",
    "with open('eventlist.csv','w',encoding='utf-8') as wf:\n",
    "    eventwriter=csv.writer(wf,delimiter=',')\n",
    "    for event in eventset:\n",
    "        eventwriter.writerow(event.split('/'))\n",
    "    wf.close()    \n",
    "    "
   ]
  },
  {
   "cell_type": "code",
   "execution_count": null,
   "metadata": {},
   "outputs": [],
   "source": []
  }
 ],
 "metadata": {
  "kernelspec": {
   "display_name": "Python 3",
   "language": "python",
   "name": "python3"
  },
  "language_info": {
   "codemirror_mode": {
    "name": "ipython",
    "version": 3
   },
   "file_extension": ".py",
   "mimetype": "text/x-python",
   "name": "python",
   "nbconvert_exporter": "python",
   "pygments_lexer": "ipython3",
   "version": "3.6.5"
  }
 },
 "nbformat": 4,
 "nbformat_minor": 2
}
