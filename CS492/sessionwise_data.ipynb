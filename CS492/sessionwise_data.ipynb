{
 "cells": [
  {
   "cell_type": "markdown",
   "metadata": {},
   "source": [
    "# Get target video list from target uesr list"
   ]
  },
  {
   "cell_type": "code",
   "execution_count": 69,
   "metadata": {},
   "outputs": [],
   "source": [
    "import os\n",
    "import glob\n",
    "import json\n",
    "import csv\n",
    "import re\n",
    "\n",
    "# input: 'targetusr.csv', 'videodata.json'\n",
    "# output: 'targetvideo.csv' - list of video ids that target users studied. \n",
    "curdir=os.getcwd()\n",
    "\n",
    "targetuserfile='targetuser.csv'\n",
    "\n",
    "with open(targetuserfile,'r',encoding='utf-8') as uf:\n",
    "    ureader=csv.reader(uf)\n",
    "    targetusers=[]\n",
    "    next(ureader)\n",
    "    for row in ureader:\n",
    "        targetusers.append(row[0])\n",
    "    uf.close()\n",
    "    \n",
    "data=json.load(open('videodata.json','r',encoding='utf-8'))\n",
    "\n",
    "targetvideoset=set()\n",
    "for event in data:\n",
    "    vid=event[\"video_id\"]\n",
    "    uid=event[\"user_id\"]\n",
    "    if(uid in targetusers):\n",
    "        targetvideoset.add(vid)\n",
    "\n",
    "targetvideofile='targetvideos.csv'\n",
    "    \n",
    "with open(targetvideofile,'w',encoding='utf-8') as vf:\n",
    "    vwriter=csv.writer(vf,delimiter=',')\n",
    "    for vid in targetvideoset:\n",
    "        vwriter.writerow([vid])\n",
    "    vf.close()\n",
    "  \n"
   ]
  },
  {
   "cell_type": "markdown",
   "metadata": {},
   "source": [
    "# Filter out non-target events"
   ]
  },
  {
   "cell_type": "code",
   "execution_count": 70,
   "metadata": {},
   "outputs": [],
   "source": [
    "targetdata=[]\n",
    "for vid in targetvideoset:\n",
    "    newobj={}\n",
    "    newobj[\"video_id\"]=vid \n",
    "    newobj[\"events\"]=[]\n",
    "    targetdata.append(newobj)\n",
    "\n",
    "for event in data:\n",
    "    videoid=event[\"video_id\"]\n",
    "    for vobj in targetdata:\n",
    "        vid=vobj[\"video_id\"]\n",
    "        if(vid==event[\"video_id\"]):\n",
    "            vobj[\"course_id\"]=event['course_id']\n",
    "            vobj[\"org_id\"]=event['org_id']\n",
    "            vobj[\"week_id\"]=event['week_id']\n",
    "            vobj[\"events\"].append(event)\n",
    "                  \n",
    "with open('video_targetdata.json','w',encoding='utf-8') as wf:\n",
    "    eventwriter=csv.writer(wf,delimiter=',')\n",
    "    json.dump(targetdata,wf, sort_keys=False, indent=4)\n",
    "    wf.close()"
   ]
  },
  {
   "cell_type": "markdown",
   "metadata": {},
   "source": [
    "# Generate event data with video, session info "
   ]
  },
  {
   "cell_type": "code",
   "execution_count": 71,
   "metadata": {},
   "outputs": [],
   "source": [
    "def extract_time(event):\n",
    "    return event['time']\n",
    "\n",
    "\n",
    "# restructure as session-wise data\n",
    "newtargetdata=[]\n",
    "for vid in targetvideoset:\n",
    "    for vobj in targetdata:\n",
    "        if(vobj[\"video_id\"]==vid):\n",
    "            newvobj={}\n",
    "            newvobj[\"video_id\"]=vid\n",
    "            newvobj[\"course_id\"]=vobj[\"course_id\"]\n",
    "            newvobj[\"org_id\"]=vobj[\"org_id\"]\n",
    "            newvobj[\"week_id\"]=vobj[\"week_id\"]            \n",
    "            events=vobj[\"events\"]\n",
    "            sessionset=set() # this gives unique list of sessions related to this vid \n",
    "            for event in events:\n",
    "                sessionid=event[\"session\"]\n",
    "                if(sessionid):\n",
    "                    sessionset.add(sessionid)\n",
    "            sessionevent=[]            \n",
    "            \n",
    "            for session in sessionset:\n",
    "                sessiondata={}\n",
    "                sessiondata[\"session\"]=session\n",
    "                sessiondata[\"events\"]=[]\n",
    "                sessionevent.append(sessiondata)\n",
    "                \n",
    "#            print(sessionevent[0])\n",
    "\n",
    "            for event in events:\n",
    "                sessionid=event[\"session\"]\n",
    "                for  s in sessionevent:\n",
    "                    if s['session'] == sessionid:\n",
    "                        s['user_id']=event['user_id']\n",
    "                        del event[\"course_id\"]\n",
    "                        del event[\"org_id\"]\n",
    "                        del event[\"session\"]\n",
    "                        del event[\"user_id\"]\n",
    "                        del event[\"video_id\"]\n",
    "                        del event[\"week_id\"]\n",
    "                        s['events'].append(event)\n",
    "                        s['events']=sorted(s['events'], key=lambda k: k.get('time',0), reverse=False)\n",
    "                        break\n",
    "                    else:\n",
    "                        continue\n",
    "                    print('Nothing found!')\n",
    "            newvobj[\"sessions\"]=sessionevent\n",
    "    newtargetdata.append(newvobj)\n",
    "\n",
    "with open('video_targetdata_session.json','w',encoding='utf-8') as wf:\n",
    "    eventwriter=csv.writer(wf,delimiter=',')\n",
    "    json.dump(newtargetdata,wf, sort_keys=False, indent=4)\n",
    "    wf.close()\n"
   ]
  },
  {
   "cell_type": "markdown",
   "metadata": {},
   "source": [
    "# Extend to contain pause duration"
   ]
  },
  {
   "cell_type": "code",
   "execution_count": 72,
   "metadata": {},
   "outputs": [
    {
     "name": "stdout",
     "output_type": "stream",
     "text": [
      "2018-07-24 15:34:11.481975+00:00\n",
      "2018-07-24 15:36:22.311502+00:00\n",
      "0:02:10.829527\n"
     ]
    }
   ],
   "source": [
    "import datetime\n",
    "import dateutil.parser\n",
    "\n",
    "dt1=\"2018-07-24T15:34:11.481975+00:00\"\n",
    "dt2=\"2018-07-24T15:36:22.311502+00:00\"\n",
    "\n",
    "odt1=dateutil.parser.parse(dt1)\n",
    "odt2=dateutil.parser.parse(dt2)\n",
    "\n",
    "print(odt1)\n",
    "print(odt2)\n",
    "print(odt2-odt1)\n"
   ]
  },
  {
   "cell_type": "code",
   "execution_count": 73,
   "metadata": {},
   "outputs": [],
   "source": [
    "oldtargetdata=json.load(open('video_targetdata_session.json','r',encoding='utf-8'))\n",
    "\n",
    "newtargetdata=[]\n",
    "for vobj in oldtargetdata:\n",
    "    newvobj=vobj\n",
    "    newsessions=[]\n",
    "    for s in vobj[\"sessions\"]:\n",
    "        events=s[\"events\"]\n",
    "        news=s\n",
    "        newevents=[]\n",
    "        prevet=\"play\"\n",
    "        for i in range(len(events)):\n",
    "            event=events[i]\n",
    "            newevents.append(event)\n",
    "            et=event[\"event_type\"]\n",
    "            if(et!=\"stop_video\"):\n",
    "                if(prevet==\"pause_video\"):\n",
    "                    curtime=dateutil.parser.parse(event[\"time\"])\n",
    "                    pausetime=dateutil.parser.parse(events[i-1][\"time\"])\n",
    "                    pauseduration=curtime-pausetime\n",
    "                    newevents[i-1][\"duration\"]=pauseduration.total_seconds()\n",
    "  #                  print(\"Hi\")\n",
    "            prevet=et\n",
    "        news[\"events\"]=newevents\n",
    " #       print(news)\n",
    "        newsessions.append(news)\n",
    "    newvobj[\"sessions\"]=newsessions\n",
    "    newtargetdata.append(newvobj)\n",
    "\n",
    "with open('video_targetdata_session_with_duration.json','w',encoding='utf-8') as wf:\n",
    "    eventwriter=csv.writer(wf,delimiter=',')\n",
    "    json.dump(newtargetdata,wf, sort_keys=False, indent=4)\n",
    "    wf.close()\n",
    "           \n",
    "            \n",
    "            "
   ]
  },
  {
   "cell_type": "code",
   "execution_count": null,
   "metadata": {},
   "outputs": [],
   "source": []
  }
 ],
 "metadata": {
  "kernelspec": {
   "display_name": "Python 3",
   "language": "python",
   "name": "python3"
  },
  "language_info": {
   "codemirror_mode": {
    "name": "ipython",
    "version": 3
   },
   "file_extension": ".py",
   "mimetype": "text/x-python",
   "name": "python",
   "nbconvert_exporter": "python",
   "pygments_lexer": "ipython3",
   "version": "3.6.5"
  }
 },
 "nbformat": 4,
 "nbformat_minor": 2
}
