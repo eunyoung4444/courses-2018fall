{
 "cells": [
  {
   "cell_type": "code",
   "execution_count": 2,
   "metadata": {},
   "outputs": [],
   "source": [
    "import os\n",
    "import glob\n",
    "import json\n",
    "import csv"
   ]
  },
  {
   "cell_type": "code",
   "execution_count": 8,
   "metadata": {},
   "outputs": [],
   "source": [
    "curdir=os.getcwd()\n",
    "files=glob.iglob(curdir+'/MOOC_sample_data'+'/*') #input, change this path\n",
    "\n",
    "errorlist='errors.csv' #output\n",
    "\n",
    "for file in files:\n",
    "    fileid=file.split('_data')[1]\n",
    "    newfile=curdir+'/MOOC_sample_data_jsonized'+fileid+'.json'\n",
    "    data=[]\n",
    "    rawdata=open(file,'r',encoding='utf-8')\n",
    "    lines=rawdata.readlines()\n",
    "    count=0\n",
    "    for line in lines:\n",
    "        count=count+1\n",
    "        #print(count)\n",
    "        try:\n",
    "            oldfile=open('temp.json','w',encoding='utf-8')\n",
    "            json.dump(json.loads(line),oldfile)\n",
    "            oldfile.close()\n",
    "        except Exception:\n",
    "            with open(errorlist,'a',encoding='utf-8') as ef:\n",
    "                ewriter= csv.writer(ef, delimiter=',')\n",
    "                ewriter.writerow([fileid, count, line])\n",
    "                ef.close()\n",
    "        else:\n",
    "            data.append(json.loads(line))\n",
    "         #   pass\n",
    "    with open(newfile,'w',encoding='utf-8') as nf:\n",
    "        json.dump(data,nf, sort_keys=True, indent=4)\n",
    "        nf.close()\n",
    "    "
   ]
  }
 ],
 "metadata": {
  "kernelspec": {
   "display_name": "Python 3",
   "language": "python",
   "name": "python3"
  },
  "language_info": {
   "codemirror_mode": {
    "name": "ipython",
    "version": 3
   },
   "file_extension": ".py",
   "mimetype": "text/x-python",
   "name": "python",
   "nbconvert_exporter": "python",
   "pygments_lexer": "ipython3",
   "version": "3.6.5"
  }
 },
 "nbformat": 4,
 "nbformat_minor": 2
}
