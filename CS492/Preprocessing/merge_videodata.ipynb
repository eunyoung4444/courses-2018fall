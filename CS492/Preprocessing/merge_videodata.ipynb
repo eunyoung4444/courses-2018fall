{
 "cells": [
  {
   "cell_type": "code",
   "execution_count": 39,
   "metadata": {},
   "outputs": [
    {
     "name": "stdout",
     "output_type": "stream",
     "text": [
      "50\n",
      "100\n",
      "150\n",
      "200\n",
      "250\n",
      "300\n"
     ]
    }
   ],
   "source": [
    "# Filter out non-video related events \n",
    "import os\n",
    "import glob\n",
    "import json\n",
    "import csv\n",
    "import re\n",
    "\n",
    "curdir=os.getcwd()\n",
    "\n",
    "jsonfiles=glob.iglob(curdir+'/K-MOOC tracking_log_jsonized'+'/*') #input, change this path\n",
    "targeteventlist='targetevent.csv' #input\n",
    "\n",
    "targeteventfile='videodata.json' #output\n",
    "\n",
    "with open(targeteventlist,'r',encoding='utf-8') as rf:\n",
    "    reader=csv.reader(rf)\n",
    "    targetevents=[]\n",
    "    next(reader)\n",
    "    for row in reader:\n",
    "        targetevents.append(row[0])\n",
    "    rf.close()\n",
    "\n",
    "#print(targetevents)\n",
    "    \n",
    "data=[]\n",
    "#count=0\n",
    "eventcount=0\n",
    "for jsonfile in jsonfiles:\n",
    "#    count=count+1\n",
    "#    if (count%50==0):\n",
    "#        print(count)\n",
    "    wholeevents=json.load(open(jsonfile,'r',encoding='utf-8'))\n",
    "    for event in wholeevents:\n",
    "        eventtype=event[\"event_type\"]\n",
    "        if(eventtype in targetevents):\n",
    "            # Note that for these video-related events, the \"event\" field is ill-formatted.\n",
    "            # e.g., \"event\": \"{\\\"code\\\": \\\"html5\\\", \\\"type\\\": \\\"onSlideSeek\\\", \\\"id\\\": \\\"8dab4b16f5fa467da92b5f01e6eb0ac6\\\", \\\"new_time\\\": 471, \\\"old_time\\\": 396.613652}\"\n",
    "            # So we re-format this field by nesting. \n",
    "            neweventvalue={}\n",
    "            oldeventvalue=[x for x in re.split('{|}|, |\"|\\\"|: ',event[\"event\"]) if x]\n",
    "            npairs=int(len(oldeventvalue)/2)\n",
    "            for i in range(npairs):\n",
    "                key=oldeventvalue[2*i]\n",
    "                value=oldeventvalue[2*i+1]\n",
    "                numval=value.replace('.','',1)\n",
    "                if(numval.isdigit()):\n",
    "                    value=float(value)\n",
    "                neweventvalue[key]=value                        \n",
    "            event[\"event\"]=neweventvalue            \n",
    "            data.append(event)\n",
    "            eventcount=eventcount+1\n",
    "\n",
    "            \n",
    "with open(targeteventfile,'w',encoding='utf-8') as wf:\n",
    "    eventwriter=csv.writer(wf,delimiter=',')\n",
    "    json.dump(data,wf, sort_keys=True, indent=4)\n",
    "    wf.close()\n",
    "\n",
    "#print(eventcount)\n",
    "\n",
    "# videodata.json --> 536MB                \n",
    "# eventcount = 435961"
   ]
  },
  {
   "cell_type": "code",
   "execution_count": 40,
   "metadata": {},
   "outputs": [],
   "source": [
    "# Split into smaller files (Tableau can read files with size upto 128MB)\n",
    "linesperfile=int(eventcount/5)\n",
    "for i in range(5):\n",
    "    smallfilename='videodata_'+str(i)+'.json'\n",
    "    with open(smallfilename,'w',encoding='utf-8') as sf:\n",
    "        lidx=i*linesperfile\n",
    "        ridx=min((i+1)*linesperfile, eventcount)\n",
    "        json.dump(data[lidx:ridx], sf, sort_keys=True, indent=4)\n",
    "        sf.close()\n",
    "        "
   ]
  },
  {
   "cell_type": "code",
   "execution_count": null,
   "metadata": {},
   "outputs": [],
   "source": []
  }
 ],
 "metadata": {
  "kernelspec": {
   "display_name": "Python 3",
   "language": "python",
   "name": "python3"
  },
  "language_info": {
   "codemirror_mode": {
    "name": "ipython",
    "version": 3
   },
   "file_extension": ".py",
   "mimetype": "text/x-python",
   "name": "python",
   "nbconvert_exporter": "python",
   "pygments_lexer": "ipython3",
   "version": "3.6.5"
  }
 },
 "nbformat": 4,
 "nbformat_minor": 2
}
